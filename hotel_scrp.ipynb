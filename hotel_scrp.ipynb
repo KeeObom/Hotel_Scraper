{
 "cells": [
  {
   "cell_type": "markdown",
   "metadata": {},
   "source": [
    "### Importing Libraries"
   ]
  },
  {
   "cell_type": "code",
   "execution_count": 3,
   "metadata": {},
   "outputs": [],
   "source": [
    "from bs4 import BeautifulSoup\n",
    "import requests\n",
    "import pandas as pd"
   ]
  },
  {
   "cell_type": "markdown",
   "metadata": {},
   "source": [
    "### Getting HTML from Booking.com"
   ]
  },
  {
   "cell_type": "code",
   "execution_count": 20,
   "metadata": {},
   "outputs": [],
   "source": [
    "url = \"https://www.booking.com/searchresults.en-gb.html?ss=United+States&ssne=United+States&ssne_untouched=United+States&efdco=1&label=gen173nr-1BCAEoggI46AdIM1gEaKcBiAEBmAEJuAEXyAEM2AEB6AEBiAIBqAIDuAKW18W1BsACAdICJDUzZDY1M2JjLWUzMmUtNDUzNy1iYTRlLWQ1YTE5OWY5NWU1NdgCBeACAQ&sid=47e61d0859026259a0ff04b6d3ad19ec&aid=304142&lang=en-gb&sb=1&src_elem=sb&src=searchresults&dest_id=224&dest_type=country&checkin=2024-12-21&checkout=2025-03-21&group_adults=1&no_rooms=1&group_children=0&selected_currency=USD&rows=100\"\n",
    "\n",
    "headers = {\n",
    "    'User-Agent': 'Mozilla/5.0 (X11; CrOS x86_64 8172.45.0) AppleWebKit/537.36 (KHTML, like Gecko) Chrome/51.0.2704.64 Safari/537.36',\n",
    "    'Accept-Language': 'en-US, en;q=0.5'\n",
    "}\n",
    "\n",
    "response  = requests.get(url, headers=headers)"
   ]
  },
  {
   "cell_type": "markdown",
   "metadata": {},
   "source": [
    "### Data Extraction"
   ]
  },
  {
   "cell_type": "code",
   "execution_count": 21,
   "metadata": {},
   "outputs": [],
   "source": [
    "soup = BeautifulSoup(response.text, 'html.parser')"
   ]
  },
  {
   "cell_type": "markdown",
   "metadata": {},
   "source": [
    "From a list of hotels, we will retrieve the following information:</br>\n",
    "**(Inspect page element to get the correct tags)**\n",
    "\n",
    "-Hotel Name\n",
    "-Location\n",
    "-Price"
   ]
  },
  {
   "cell_type": "code",
   "execution_count": 22,
   "metadata": {},
   "outputs": [],
   "source": [
    "# Find all the hotel elements in the HTML document\n",
    "hotels = soup.findAll('div', {'data-testid': 'property-card'})\n",
    "\n",
    "hotels_data = []\n",
    "# Loop over the hotel elements and extract the desired data\n",
    "for hotel in hotels:\n",
    "    # Extract the hotel name\n",
    "    name_element = hotel.find('div', {'data-testid': 'title'})\n",
    "    name = name_element.text.strip()\n",
    "\n",
    "    # Extract the hotel location\n",
    "    location_element = hotel.find('span', {'data-testid': 'address'})\n",
    "    location = location_element.text.strip()\n",
    "\n",
    "    # Extract the hotel price\n",
    "    price_element = hotel.find('span', {'data-testid': 'price-and-discounted-price'})\n",
    "    price = price_element.text.strip()\n",
    "    \n",
    "    \n",
    "    # Append hotes_data with info about hotel\n",
    "    hotels_data.append({\n",
    "        'name': name,\n",
    "        'location': location,\n",
    "        'price': price\n",
    "    })"
   ]
  },
  {
   "cell_type": "markdown",
   "metadata": {},
   "source": [
    "### Defining the Dataframe"
   ]
  },
  {
   "cell_type": "code",
   "execution_count": 23,
   "metadata": {},
   "outputs": [
    {
     "data": {
      "text/html": [
       "<div>\n",
       "<style scoped>\n",
       "    .dataframe tbody tr th:only-of-type {\n",
       "        vertical-align: middle;\n",
       "    }\n",
       "\n",
       "    .dataframe tbody tr th {\n",
       "        vertical-align: top;\n",
       "    }\n",
       "\n",
       "    .dataframe thead th {\n",
       "        text-align: right;\n",
       "    }\n",
       "</style>\n",
       "<table border=\"1\" class=\"dataframe\">\n",
       "  <thead>\n",
       "    <tr style=\"text-align: right;\">\n",
       "      <th></th>\n",
       "      <th>name</th>\n",
       "      <th>location</th>\n",
       "      <th>price</th>\n",
       "    </tr>\n",
       "  </thead>\n",
       "  <tbody>\n",
       "    <tr>\n",
       "      <th>0</th>\n",
       "      <td>Venice Beach International Traveler Cabins</td>\n",
       "      <td>Venice Beach, Los Angeles</td>\n",
       "      <td>US$5,527</td>\n",
       "    </tr>\n",
       "    <tr>\n",
       "      <th>1</th>\n",
       "      <td>Quiet Mind Lodge, Spa &amp; Retreat Sequoias</td>\n",
       "      <td>Kernville</td>\n",
       "      <td>US$15,070</td>\n",
       "    </tr>\n",
       "    <tr>\n",
       "      <th>2</th>\n",
       "      <td>The Inn at Virginia Tech - On Campus</td>\n",
       "      <td>Blacksburg</td>\n",
       "      <td>US$16,138</td>\n",
       "    </tr>\n",
       "    <tr>\n",
       "      <th>3</th>\n",
       "      <td>Outbound Mammoth</td>\n",
       "      <td>Mammoth Lakes</td>\n",
       "      <td>US$33,077</td>\n",
       "    </tr>\n",
       "    <tr>\n",
       "      <th>4</th>\n",
       "      <td>Stonehill Cottages</td>\n",
       "      <td>Mena</td>\n",
       "      <td>US$26,658</td>\n",
       "    </tr>\n",
       "  </tbody>\n",
       "</table>\n",
       "</div>"
      ],
      "text/plain": [
       "                                         name                   location  \\\n",
       "0  Venice Beach International Traveler Cabins  Venice Beach, Los Angeles   \n",
       "1    Quiet Mind Lodge, Spa & Retreat Sequoias                  Kernville   \n",
       "2        The Inn at Virginia Tech - On Campus                 Blacksburg   \n",
       "3                            Outbound Mammoth              Mammoth Lakes   \n",
       "4                          Stonehill Cottages                       Mena   \n",
       "\n",
       "       price  \n",
       "0   US$5,527  \n",
       "1  US$15,070  \n",
       "2  US$16,138  \n",
       "3  US$33,077  \n",
       "4  US$26,658  "
      ]
     },
     "execution_count": 23,
     "metadata": {},
     "output_type": "execute_result"
    }
   ],
   "source": [
    "hotels = pd.DataFrame(hotels_data)\n",
    "hotels.head()"
   ]
  },
  {
   "cell_type": "markdown",
   "metadata": {},
   "source": [
    "### Generate CSV file"
   ]
  },
  {
   "cell_type": "code",
   "execution_count": 24,
   "metadata": {},
   "outputs": [],
   "source": [
    "hotels.to_csv('hotels.csv', header=True, index=False)"
   ]
  },
  {
   "cell_type": "markdown",
   "metadata": {},
   "source": [
    "### Problem"
   ]
  },
  {
   "cell_type": "markdown",
   "metadata": {},
   "source": [
    "The html is returning data with NGN price, instead of USD prices, maybe Somto will have to use his own url or vpn might work, as it is showing usd on the webpage but the requests is not getting usd </br>\n",
    "This was solved by adding \"&selected_currency=USD\" to the url"
   ]
  },
  {
   "cell_type": "code",
   "execution_count": 47,
   "metadata": {},
   "outputs": [
    {
     "name": "stdout",
     "output_type": "stream",
     "text": [
      "Data has been saved to 'us_hotel_prices.csv'\n"
     ]
    }
   ],
   "source": [
    "import requests\n",
    "from bs4 import BeautifulSoup\n",
    "import pandas as pd\n",
    "\n",
    "# Define the initial URL and headers\n",
    "base_url = \"https://www.booking.com/searchresults.en-gb.html\"\n",
    "params = {\n",
    "    'ss': 'United States',\n",
    "    'ssne': 'United States',\n",
    "    'ssne_untouched': 'United States',\n",
    "    'efdco': 1,\n",
    "    'label': 'gen173nr-1BCAEoggI46AdIM1gEaKcBiAEBmAEJuAEXyAEM2AEB6AEBiAIBqAIDuAKW18W1BsACAdICJDUzZDY1M2JjLWUzMmUtNDUzNy1iYTRlLWQ1YTE5OWY5NWU1NdgCBeACAQ',\n",
    "    'sid': '47e61d0859026259a0ff04b6d3ad19ec',\n",
    "    'aid': 304142,\n",
    "    'lang': 'en-gb',\n",
    "    'sb': 1,\n",
    "    'src_elem': 'sb',\n",
    "    'src': 'searchresults',\n",
    "    'dest_id': 224,\n",
    "    'dest_type': 'country',\n",
    "    'checkin': '2024-12-21',\n",
    "    'checkout': '2025-03-21',\n",
    "    'group_adults': 1,\n",
    "    'no_rooms': 1,\n",
    "    'group_children': 0,\n",
    "    'selected_currency': 'USD',\n",
    "    # 'rows': 100  # Number of rows\n",
    "}\n",
    "\n",
    "headers = {\n",
    "    'User-Agent': 'Mozilla/5.0 (X11; CrOS x86_64 8172.45.0) AppleWebKit/537.36 (KHTML, like Gecko) Chrome/51.0.2704.64 Safari/537.36',\n",
    "    'Accept-Language': 'en-US, en;q=0.5'\n",
    "}\n",
    "\n",
    "def get_hotel_data(soup):\n",
    "    hotels = soup.findAll('div', {'data-testid': 'property-card'})\n",
    "    hotels_data = []\n",
    "    for hotel in hotels:\n",
    "        # Extract the hotel name\n",
    "        name_element = hotel.find('div', {'data-testid': 'title'})\n",
    "        name = name_element.text.strip() if name_element else None\n",
    "\n",
    "        # Extract the hotel location\n",
    "        location_element = hotel.find('span', {'data-testid': 'address'})\n",
    "        location = location_element.text.strip() if location_element else None\n",
    "\n",
    "        # Extract the hotel price\n",
    "        price_element = hotel.find('span', {'data-testid': 'price-and-discounted-price'})\n",
    "        price = price_element.text.strip() if price_element else None\n",
    "\n",
    "        # Append hotels_data with info about hotel\n",
    "        hotels_data.append({\n",
    "            'name': name,\n",
    "            'location': location,\n",
    "            'price': price\n",
    "        })\n",
    "    return hotels_data\n",
    "\n",
    "\n",
    "all_hotels_data = []\n",
    "\n",
    "# Initial request\n",
    "response = requests.get(base_url, headers=headers, params=params)\n",
    "soup = BeautifulSoup(response.content, 'html.parser')\n",
    "all_hotels_data.extend(get_hotel_data(soup))\n",
    "\n",
    "\n",
    "# Convert to DataFrame\n",
    "df_hotel = pd.DataFrame(all_hotels_data)\n",
    "\n",
    "# Save DataFrame to CSV\n",
    "df_hotel.to_csv('us_hotel_prices.csv', index=False)\n",
    "\n",
    "print(\"Data has been saved to 'us_hotel_prices.csv'\")\n"
   ]
  },
  {
   "cell_type": "code",
   "execution_count": 48,
   "metadata": {},
   "outputs": [
    {
     "data": {
      "text/plain": [
       "name        object\n",
       "location    object\n",
       "price       object\n",
       "dtype: object"
      ]
     },
     "execution_count": 48,
     "metadata": {},
     "output_type": "execute_result"
    }
   ],
   "source": [
    "df_hotel.dtypes"
   ]
  },
  {
   "cell_type": "code",
   "execution_count": 45,
   "metadata": {},
   "outputs": [
    {
     "data": {
      "text/html": [
       "<div>\n",
       "<style scoped>\n",
       "    .dataframe tbody tr th:only-of-type {\n",
       "        vertical-align: middle;\n",
       "    }\n",
       "\n",
       "    .dataframe tbody tr th {\n",
       "        vertical-align: top;\n",
       "    }\n",
       "\n",
       "    .dataframe thead th {\n",
       "        text-align: right;\n",
       "    }\n",
       "</style>\n",
       "<table border=\"1\" class=\"dataframe\">\n",
       "  <thead>\n",
       "    <tr style=\"text-align: right;\">\n",
       "      <th></th>\n",
       "      <th>name</th>\n",
       "      <th>location</th>\n",
       "      <th>price</th>\n",
       "    </tr>\n",
       "  </thead>\n",
       "  <tbody>\n",
       "    <tr>\n",
       "      <th>0</th>\n",
       "      <td>Venice Beach International Traveler Cabins</td>\n",
       "      <td>Venice Beach, Los Angeles</td>\n",
       "      <td>US$5,527</td>\n",
       "    </tr>\n",
       "    <tr>\n",
       "      <th>1</th>\n",
       "      <td>Quiet Mind Lodge, Spa &amp; Retreat Sequoias</td>\n",
       "      <td>Kernville</td>\n",
       "      <td>US$15,070</td>\n",
       "    </tr>\n",
       "    <tr>\n",
       "      <th>2</th>\n",
       "      <td>The Inn at Virginia Tech - On Campus</td>\n",
       "      <td>Blacksburg</td>\n",
       "      <td>US$16,138</td>\n",
       "    </tr>\n",
       "    <tr>\n",
       "      <th>3</th>\n",
       "      <td>Outbound Mammoth</td>\n",
       "      <td>Mammoth Lakes</td>\n",
       "      <td>US$33,077</td>\n",
       "    </tr>\n",
       "    <tr>\n",
       "      <th>4</th>\n",
       "      <td>Stonehill Cottages</td>\n",
       "      <td>Mena</td>\n",
       "      <td>US$26,658</td>\n",
       "    </tr>\n",
       "  </tbody>\n",
       "</table>\n",
       "</div>"
      ],
      "text/plain": [
       "                                         name                   location  \\\n",
       "0  Venice Beach International Traveler Cabins  Venice Beach, Los Angeles   \n",
       "1    Quiet Mind Lodge, Spa & Retreat Sequoias                  Kernville   \n",
       "2        The Inn at Virginia Tech - On Campus                 Blacksburg   \n",
       "3                            Outbound Mammoth              Mammoth Lakes   \n",
       "4                          Stonehill Cottages                       Mena   \n",
       "\n",
       "       price  \n",
       "0   US$5,527  \n",
       "1  US$15,070  \n",
       "2  US$16,138  \n",
       "3  US$33,077  \n",
       "4  US$26,658  "
      ]
     },
     "execution_count": 45,
     "metadata": {},
     "output_type": "execute_result"
    }
   ],
   "source": [
    "df.head()"
   ]
  },
  {
   "cell_type": "code",
   "execution_count": 46,
   "metadata": {},
   "outputs": [
    {
     "name": "stdout",
     "output_type": "stream",
     "text": [
      "Top 5 Cheapest States by Average Hotel Price:\n",
      "        state  price\n",
      "0      Alaska    NaN\n",
      "1     Arizona    NaN\n",
      "2  California    NaN\n",
      "3     Florida    NaN\n",
      "4     Indiana    NaN\n"
     ]
    },
    {
     "data": {
      "image/png": "[encoded data removed]",
      "text/plain": [
       "<Figure size 1000x600 with 1 Axes>"
      ]
     },
     "metadata": {},
     "output_type": "display_data"
    }
   ],
   "source": [
    "from geopy.geocoders import Nominatim\n",
    "import re\n",
    "import matplotlib.pyplot as plt\n",
    "import seaborn as sns\n",
    "\n",
    "# Initialize geolocator\n",
    "geolocator = Nominatim(user_agent=\"hotel_price_analysis\")\n",
    "\n",
    "def get_state_from_location(location):\n",
    "    try:\n",
    "        location_info = geolocator.geocode(location, addressdetails=True)\n",
    "        if location_info and 'state' in location_info.raw['address']:\n",
    "            return location_info.raw['address']['state']\n",
    "    except Exception as e:\n",
    "        print(f\"Error geocoding {location}: {e}\")\n",
    "    return None\n",
    "\n",
    "\n",
    "df = df_hotel.copy()\n",
    "\n",
    "# Extract states from locations\n",
    "df['state'] = df['location'].apply(get_state_from_location)\n",
    "\n",
    "\n",
    "# Clean the price column\n",
    "df['price'] = df['price'].str.replace('US$', '', regex=True)  # Remove 'US$'\n",
    "df['price'] = df['price'].str.replace(',', '', regex=True)   # Remove commas\n",
    "df['price'] = df['price'].str.strip()                        # Remove any extra whitespace\n",
    "df['price'] = pd.to_numeric(df['price'], errors='coerce')   # Convert to float\n",
    "\n",
    "# Drop rows where state or price is missing\n",
    "# df = df.dropna(subset=['state', 'price'])\n",
    "\n",
    "# Calculate average price per state\n",
    "state_prices = df.groupby('state')['price'].mean().reset_index()\n",
    "\n",
    "# Sort states by average price\n",
    "state_prices_sorted = state_prices.sort_values(by='price')\n",
    "\n",
    "# Get the top 5 cheapest states\n",
    "top_5_cheapest_states = state_prices_sorted.head(5)\n",
    "\n",
    "# Display the top 5 cheapest states in a table\n",
    "print(\"Top 5 Cheapest States by Average Hotel Price:\")\n",
    "print(top_5_cheapest_states)\n",
    "\n",
    "# Plot the top 5 cheapest states\n",
    "plt.figure(figsize=(10, 6))\n",
    "sns.barplot(data=top_5_cheapest_states, x='state', y='price', palette='viridis')\n",
    "plt.title('Top 5 Cheapest States by Average Hotel Price')\n",
    "plt.xlabel('State')\n",
    "plt.ylabel('Average Price (USD)')\n",
    "plt.xticks(rotation=45)\n",
    "plt.tight_layout()\n",
    "\n",
    "# Save the plot\n",
    "plt.savefig('top_5_cheapest_states.png')\n",
    "\n",
    "# Show the plot\n",
    "plt.show()"
   ]
  }
 ],
 "metadata": {
  "kernelspec": {
   "display_name": "Python 3",
   "language": "python",
   "name": "python3"
  },
  "language_info": {
   "codemirror_mode": {
    "name": "ipython",
    "version": 3
   },
   "file_extension": ".py",
   "mimetype": "text/x-python",
   "name": "python",
   "nbconvert_exporter": "python",
   "pygments_lexer": "ipython3",
   "version": "3.10.0"
  }
 },
 "nbformat": 4,
 "nbformat_minor": 2
}
