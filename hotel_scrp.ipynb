{
 "cells": [
  {
   "cell_type": "markdown",
   "metadata": {},
   "source": [
    "### Importing Libraries"
   ]
  },
  {
   "cell_type": "code",
   "execution_count": 3,
   "metadata": {},
   "outputs": [],
   "source": [
    "from bs4 import BeautifulSoup\n",
    "import requests\n",
    "import pandas as pd"
   ]
  },
  {
   "cell_type": "markdown",
   "metadata": {},
   "source": [
    "### Getting HTML from Booking.com"
   ]
  },
  {
   "cell_type": "code",
   "execution_count": 4,
   "metadata": {},
   "outputs": [],
   "source": [
    "url = \"https://www.booking.com/searchresults.en-gb.html?ss=United+States&ssne=United+States&ssne_untouched=United+States&efdco=1&label=gen173nr-1BCAEoggI46AdIM1gEaKcBiAEBmAEJuAEXyAEM2AEB6AEBiAIBqAIDuAKW18W1BsACAdICJDUzZDY1M2JjLWUzMmUtNDUzNy1iYTRlLWQ1YTE5OWY5NWU1NdgCBeACAQ&sid=47e61d0859026259a0ff04b6d3ad19ec&aid=304142&lang=en-gb&sb=1&src_elem=sb&src=searchresults&dest_id=224&dest_type=country&checkin=2024-12-21&checkout=2025-03-21&group_adults=1&no_rooms=1&group_children=0\"\n",
    "\n",
    "headers = {\n",
    "    'User-Agent': 'Mozilla/5.0 (X11; CrOS x86_64 8172.45.0) AppleWebKit/537.36 (KHTML, like Gecko) Chrome/51.0.2704.64 Safari/537.36',\n",
    "    'Accept-Language': 'en-US, en;q=0.5'\n",
    "}\n",
    "\n",
    "response  = requests.get(url, headers=headers)"
   ]
  },
  {
   "cell_type": "markdown",
   "metadata": {},
   "source": [
    "### Data Extraction"
   ]
  },
  {
   "cell_type": "code",
   "execution_count": 5,
   "metadata": {},
   "outputs": [],
   "source": [
    "soup = BeautifulSoup(response.text, 'html.parser')"
   ]
  },
  {
   "cell_type": "markdown",
   "metadata": {},
   "source": [
    "From a list of hotels, we will retrieve the following information:\n",
    "\n",
    "-Hotel name\n",
    "-Location\n",
    "-Price"
   ]
  },
  {
   "cell_type": "code",
   "execution_count": 7,
   "metadata": {},
   "outputs": [],
   "source": [
    "# Find all the hotel elements in the HTML document\n",
    "hotels = soup.findAll('div', {'data-testid': 'property-card'})\n",
    "\n",
    "hotels_data = []\n",
    "# Loop over the hotel elements and extract the desired data\n",
    "for hotel in hotels:\n",
    "    # Extract the hotel name\n",
    "    name_element = hotel.find('div', {'data-testid': 'title'})\n",
    "    name = name_element.text.strip()\n",
    "\n",
    "    # Extract the hotel location\n",
    "    location_element = hotel.find('span', {'data-testid': 'address'})\n",
    "    location = location_element.text.strip()\n",
    "\n",
    "    # Extract the hotel price\n",
    "    price_element = hotel.find('span', {'data-testid': 'price-and-discounted-price'})\n",
    "    price = price_element.text.strip()\n",
    "    \n",
    "    \n",
    "    # Append hotes_data with info about hotel\n",
    "    hotels_data.append({\n",
    "        'name': name,\n",
    "        'location': location,\n",
    "        'price': price\n",
    "    })"
   ]
  },
  {
   "cell_type": "markdown",
   "metadata": {},
   "source": [
    "### Defining the Dataframe"
   ]
  },
  {
   "cell_type": "code",
   "execution_count": 8,
   "metadata": {},
   "outputs": [
    {
     "data": {
      "text/html": [
       "<div>\n",
       "<style scoped>\n",
       "    .dataframe tbody tr th:only-of-type {\n",
       "        vertical-align: middle;\n",
       "    }\n",
       "\n",
       "    .dataframe tbody tr th {\n",
       "        vertical-align: top;\n",
       "    }\n",
       "\n",
       "    .dataframe thead th {\n",
       "        text-align: right;\n",
       "    }\n",
       "</style>\n",
       "<table border=\"1\" class=\"dataframe\">\n",
       "  <thead>\n",
       "    <tr style=\"text-align: right;\">\n",
       "      <th></th>\n",
       "      <th>name</th>\n",
       "      <th>location</th>\n",
       "      <th>price</th>\n",
       "    </tr>\n",
       "  </thead>\n",
       "  <tbody>\n",
       "    <tr>\n",
       "      <th>0</th>\n",
       "      <td>Quiet Mind Lodge, Spa &amp; Retreat Sequoias</td>\n",
       "      <td>Kernville</td>\n",
       "      <td>NGN 24,262,022</td>\n",
       "    </tr>\n",
       "    <tr>\n",
       "      <th>1</th>\n",
       "      <td>The Inn at Virginia Tech - On Campus</td>\n",
       "      <td>Blacksburg</td>\n",
       "      <td>NGN 23,085,757</td>\n",
       "    </tr>\n",
       "    <tr>\n",
       "      <th>2</th>\n",
       "      <td>Outbound Mammoth</td>\n",
       "      <td>Mammoth Lakes</td>\n",
       "      <td>NGN 53,253,814</td>\n",
       "    </tr>\n",
       "    <tr>\n",
       "      <th>3</th>\n",
       "      <td>Stonehill Cottages</td>\n",
       "      <td>Mena</td>\n",
       "      <td>NGN 42,919,497</td>\n",
       "    </tr>\n",
       "    <tr>\n",
       "      <th>4</th>\n",
       "      <td>Zion Glamping Adventures</td>\n",
       "      <td>Hildale</td>\n",
       "      <td>NGN 20,569,975</td>\n",
       "    </tr>\n",
       "  </tbody>\n",
       "</table>\n",
       "</div>"
      ],
      "text/plain": [
       "                                       name       location           price\n",
       "0  Quiet Mind Lodge, Spa & Retreat Sequoias      Kernville  NGN 24,262,022\n",
       "1      The Inn at Virginia Tech - On Campus     Blacksburg  NGN 23,085,757\n",
       "2                          Outbound Mammoth  Mammoth Lakes  NGN 53,253,814\n",
       "3                        Stonehill Cottages           Mena  NGN 42,919,497\n",
       "4                  Zion Glamping Adventures        Hildale  NGN 20,569,975"
      ]
     },
     "execution_count": 8,
     "metadata": {},
     "output_type": "execute_result"
    }
   ],
   "source": [
    "hotels = pd.DataFrame(hotels_data)\n",
    "hotels.head()"
   ]
  },
  {
   "cell_type": "markdown",
   "metadata": {},
   "source": [
    "### Generate CSV file"
   ]
  },
  {
   "cell_type": "code",
   "execution_count": 9,
   "metadata": {},
   "outputs": [],
   "source": [
    "hotels.to_csv('hotels.csv', header=True, index=False)"
   ]
  },
  {
   "cell_type": "code",
   "execution_count": null,
   "metadata": {},
   "outputs": [],
   "source": []
  }
 ],
 "metadata": {
  "kernelspec": {
   "display_name": "Python 3",
   "language": "python",
   "name": "python3"
  },
  "language_info": {
   "codemirror_mode": {
    "name": "ipython",
    "version": 3
   },
   "file_extension": ".py",
   "mimetype": "text/x-python",
   "name": "python",
   "nbconvert_exporter": "python",
   "pygments_lexer": "ipython3",
   "version": "3.10.0"
  }
 },
 "nbformat": 4,
 "nbformat_minor": 2
}
